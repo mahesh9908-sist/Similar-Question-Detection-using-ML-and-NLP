{
 "cells": [
  {
   "cell_type": "code",
   "execution_count": 1,
   "metadata": {
    "id": "whhOf59W9QhN"
   },
   "outputs": [],
   "source": [
    "import pandas as pd\n",
    "import numpy as np\n",
    "import re\n",
    "import string\n",
    "import nltk"
   ]
  },
  {
   "cell_type": "code",
   "execution_count": 2,
   "metadata": {},
   "outputs": [],
   "source": [
    "from nltk.tokenize import word_tokenize\n",
    "from nltk.stem import SnowballStemmer"
   ]
  },
  {
   "cell_type": "code",
   "execution_count": 3,
   "metadata": {},
   "outputs": [],
   "source": [
    "from sklearn.feature_extraction.text import TfidfVectorizer\n",
    "from sklearn.cluster import KMeans\n",
    "from sklearn.metrics.pairwise import cosine_similarity"
   ]
  },
  {
   "cell_type": "code",
   "execution_count": 4,
   "metadata": {
    "colab": {
     "base_uri": "https://localhost:8080/",
     "height": 423
    },
    "id": "LCEJsqTX9QlQ",
    "outputId": "0110d3a3-2deb-4eab-84f2-3c496bb3a365",
    "scrolled": true
   },
   "outputs": [],
   "source": [
    "import matplotlib.pyplot as plt\n",
    "df = pd.read_csv(\"questions.csv\")\n"
   ]
  },
  {
   "cell_type": "code",
   "execution_count": 5,
   "metadata": {},
   "outputs": [
    {
     "data": {
      "text/html": [
       "<div>\n",
       "<style scoped>\n",
       "    .dataframe tbody tr th:only-of-type {\n",
       "        vertical-align: middle;\n",
       "    }\n",
       "\n",
       "    .dataframe tbody tr th {\n",
       "        vertical-align: top;\n",
       "    }\n",
       "\n",
       "    .dataframe thead th {\n",
       "        text-align: right;\n",
       "    }\n",
       "</style>\n",
       "<table border=\"1\" class=\"dataframe\">\n",
       "  <thead>\n",
       "    <tr style=\"text-align: right;\">\n",
       "      <th></th>\n",
       "      <th>question</th>\n",
       "    </tr>\n",
       "  </thead>\n",
       "  <tbody>\n",
       "    <tr>\n",
       "      <th>0</th>\n",
       "      <td>What is the step by step guide to invest in sh...</td>\n",
       "    </tr>\n",
       "    <tr>\n",
       "      <th>1</th>\n",
       "      <td>What is the story of Kohinoor (Koh-i-Noor) Dia...</td>\n",
       "    </tr>\n",
       "    <tr>\n",
       "      <th>2</th>\n",
       "      <td>How can I increase the speed of my internet co...</td>\n",
       "    </tr>\n",
       "    <tr>\n",
       "      <th>3</th>\n",
       "      <td>Why am I mentally very lonely? How can I solve...</td>\n",
       "    </tr>\n",
       "    <tr>\n",
       "      <th>4</th>\n",
       "      <td>Which one dissolve in water quikly sugar, salt...</td>\n",
       "    </tr>\n",
       "    <tr>\n",
       "      <th>...</th>\n",
       "      <td>...</td>\n",
       "    </tr>\n",
       "    <tr>\n",
       "      <th>4994</th>\n",
       "      <td>Who is currently winning the presidential elec...</td>\n",
       "    </tr>\n",
       "    <tr>\n",
       "      <th>4995</th>\n",
       "      <td>What has a better ROI,  marketing on radio sta...</td>\n",
       "    </tr>\n",
       "    <tr>\n",
       "      <th>4996</th>\n",
       "      <td>Which mobile is good for 50k?</td>\n",
       "    </tr>\n",
       "    <tr>\n",
       "      <th>4997</th>\n",
       "      <td>Is the character Jane in the movie Predestinat...</td>\n",
       "    </tr>\n",
       "    <tr>\n",
       "      <th>4998</th>\n",
       "      <td>How true are near death experiences?</td>\n",
       "    </tr>\n",
       "  </tbody>\n",
       "</table>\n",
       "<p>4999 rows × 1 columns</p>\n",
       "</div>"
      ],
      "text/plain": [
       "                                               question\n",
       "0     What is the step by step guide to invest in sh...\n",
       "1     What is the story of Kohinoor (Koh-i-Noor) Dia...\n",
       "2     How can I increase the speed of my internet co...\n",
       "3     Why am I mentally very lonely? How can I solve...\n",
       "4     Which one dissolve in water quikly sugar, salt...\n",
       "...                                                 ...\n",
       "4994  Who is currently winning the presidential elec...\n",
       "4995  What has a better ROI,  marketing on radio sta...\n",
       "4996                      Which mobile is good for 50k?\n",
       "4997  Is the character Jane in the movie Predestinat...\n",
       "4998               How true are near death experiences?\n",
       "\n",
       "[4999 rows x 1 columns]"
      ]
     },
     "execution_count": 5,
     "metadata": {},
     "output_type": "execute_result"
    }
   ],
   "source": [
    "df"
   ]
  },
  {
   "cell_type": "code",
   "execution_count": 6,
   "metadata": {},
   "outputs": [
    {
     "name": "stderr",
     "output_type": "stream",
     "text": [
      "[nltk_data] Downloading package punkt to C:\\Users\\Harish\n",
      "[nltk_data]     Gorla\\AppData\\Roaming\\nltk_data...\n",
      "[nltk_data]   Package punkt is already up-to-date!\n"
     ]
    },
    {
     "data": {
      "text/plain": [
       "True"
      ]
     },
     "execution_count": 6,
     "metadata": {},
     "output_type": "execute_result"
    }
   ],
   "source": [
    "import nltk\n",
    "nltk.download('punkt')\n"
   ]
  },
  {
   "cell_type": "code",
   "execution_count": 7,
   "metadata": {
    "colab": {
     "base_uri": "https://localhost:8080/"
    },
    "id": "hUuqiCww9Qmm",
    "outputId": "3f4a58ac-1764-497b-9076-69164217b9aa"
   },
   "outputs": [
    {
     "name": "stderr",
     "output_type": "stream",
     "text": [
      "[nltk_data] Downloading package stopwords to C:\\Users\\Harish\n",
      "[nltk_data]     Gorla\\AppData\\Roaming\\nltk_data...\n",
      "[nltk_data]   Package stopwords is already up-to-date!\n",
      "[nltk_data] Downloading package punkt to C:\\Users\\Harish\n",
      "[nltk_data]     Gorla\\AppData\\Roaming\\nltk_data...\n",
      "[nltk_data]   Package punkt is already up-to-date!\n"
     ]
    }
   ],
   "source": [
    "# Data cleaning and preprocessing\n",
    "\n",
    "import nltk\n",
    "nltk.download('stopwords')\n",
    "nltk.download('punkt')\n",
    "def clean_text(text):\n",
    "    # Convert to lowercase\n",
    "    text = text.lower()\n",
    "    # Remove punctuation\n",
    "    text = re.sub(r'[^\\w\\s]', '', text)\n",
    "    # Remove digits\n",
    "    text = re.sub(r'\\d+', '', text)\n",
    "    # Remove stopwords\n",
    "    stopwords = nltk.corpus.stopwords.words('english')\n",
    "    tokens = word_tokenize(text)\n",
    "    tokens = [token for token in tokens if token not in stopwords]\n",
    "    # Stemming\n",
    "    stemmer = SnowballStemmer('english')\n",
    "    tokens = [stemmer.stem(token) for token in tokens]\n",
    "    return \" \".join(tokens)\n",
    "\n"
   ]
  },
  {
   "cell_type": "code",
   "execution_count": 8,
   "metadata": {},
   "outputs": [],
   "source": [
    "#df['cleaned_text'] = df['question'].apply(clean_text)\n",
    "df['cleaned_text'] = df['question'].apply(clean_text)"
   ]
  },
  {
   "cell_type": "code",
   "execution_count": 9,
   "metadata": {
    "id": "8jFuw0I49Qpw"
   },
   "outputs": [],
   "source": [
    "from sklearn.model_selection import train_test_split\n",
    "# Split the dataset into train and test sets\n",
    "train_df, test_df = train_test_split(df, test_size=0.2, random_state=42)\n"
   ]
  },
  {
   "cell_type": "code",
   "execution_count": 10,
   "metadata": {},
   "outputs": [],
   "source": [
    "# Feature extraction\n",
    "tfidf_vectorizer = TfidfVectorizer()\n",
    "tfidf_matrix_train = tfidf_vectorizer.fit_transform(train_df['cleaned_text'])\n",
    "tfidf_matrix_test = tfidf_vectorizer.transform(test_df['cleaned_text'])\n"
   ]
  },
  {
   "cell_type": "code",
   "execution_count": 11,
   "metadata": {
    "colab": {
     "base_uri": "https://localhost:8080/"
    },
    "id": "fHV1Lt1W9QsW",
    "outputId": "41cefefe-ec03-4cd2-9643-5ec1e61c46d6"
   },
   "outputs": [
    {
     "data": {
      "text/plain": [
       "array([0.        , 0.        , 0.        , ..., 0.        , 0.        ,\n",
       "       0.06832973])"
      ]
     },
     "execution_count": 11,
     "metadata": {},
     "output_type": "execute_result"
    }
   ],
   "source": [
    "# Similarity calculation\n",
    "similarity_matrix_train = cosine_similarity(tfidf_matrix_train)\n",
    "similarity_matrix_train[100]"
   ]
  },
  {
   "cell_type": "code",
   "execution_count": 12,
   "metadata": {
    "colab": {
     "base_uri": "https://localhost:8080/"
    },
    "id": "OKmq8cDS9Qu6",
    "outputId": "6b7839b0-6745-43ff-c2bf-e87f7e80a396"
   },
   "outputs": [],
   "source": [
    "# Clustering\n",
    "num_clusters = 5\n",
    "km = KMeans(n_clusters=num_clusters)\n",
    "km.fit(tfidf_matrix_train)\n",
    "clusters_train = km.labels_.tolist()\n"
   ]
  },
  {
   "cell_type": "code",
   "execution_count": 13,
   "metadata": {
    "id": "6vip_9A69Qxe"
   },
   "outputs": [],
   "source": [
    "# Duplicate detection\n",
    "import seaborn as sns\n",
    "\n",
    "train_questions = train_df['question'].tolist()\n",
    "clustered_questions_train = {i: [] for i in range(num_clusters)}\n",
    "for i, cluster in enumerate(clusters_train):\n",
    "    clustered_questions_train[cluster].append(train_questions[i])\n",
    "    \n",
    "duplicates_train = []"
   ]
  },
  {
   "cell_type": "code",
   "execution_count": 14,
   "metadata": {},
   "outputs": [],
   "source": [
    "\n",
    "for cluster in clustered_questions_train:\n",
    "    if len(clustered_questions_train[cluster]) > 0.1:\n",
    "        group = clustered_questions_train[cluster]\n",
    "        pairwise_similarity = similarity_matrix_train[np.ix_([train_questions.index(q) for q in group], [train_questions.index(q) for q in group])]\n",
    "        indices = np.argmin(pairwise_similarity, axis=1)\n",
    "        duplicates_train.extend([(group[i], group[j]) for i, j in zip(range(len(group)), indices) if i < indices[i]])"
   ]
  },
  {
   "cell_type": "code",
   "execution_count": 15,
   "metadata": {
    "colab": {
     "base_uri": "https://localhost:8080/"
    },
    "id": "3s0NtjtI9Q0j",
    "outputId": "3982bb17-5ec8-4835-cbf3-440c2e644ced",
    "scrolled": true
   },
   "outputs": [
    {
     "name": "stdout",
     "output_type": "stream",
     "text": [
      "Duplicate questions in the training set:\n",
      "('I have a job in Timor Leste Australian base company and I can get a PR after my 8 month job. My question, is it possible to go Australia with PR?', 'What is it like to work at Goldman Sachs in London?')\n",
      "(\"How beautiful will be the world if money won't exists (I mean you get everything you want for free)?\", 'What is it like to work at Goldman Sachs in London?')\n",
      "('What are some special cares for someone with a nose that gets stuffy during the night?', 'What is it like to work at Goldman Sachs in London?')\n",
      "('How does it feel to be unemployed after getting an engineering degree?', 'What is it like to work at Goldman Sachs in London?')\n",
      "('How do you get deleted Instagram chats?', 'What is it like to work at Goldman Sachs in London?')\n",
      "('How can I get free gems in Clash of Clans?', 'What is it like to work at Goldman Sachs in London?')\n",
      "('Is there any way to get rid of gynecomastia?', 'What is it like to work at Goldman Sachs in London?')\n",
      "(\"My family doesn't respect my contribution to chores, office work. They talk disrespectfully & get verbally aggressive. What to do.?\", 'Should I get \"Objective Physics for Medical Entrances\" by DC Pandey or \"Understanding Physics for the JEE-Mains\" by the same author for the AIIMS UG entrance exam?')\n",
      "('What are the best books for basic electrical engineering?', 'What are the best associate product manager (APM) programs that someone in their early 20s can join to learn product management and have a rewarding career in the company?')\n",
      "('What is the best way to make ourselves happy?', 'What are the newest or best gadgets, tools, techniques that help one learn quicker, memorize tons of complex books, sleep less, or be more alert?')\n",
      "('What is the best black Friday deal for this year?', 'What are the newest or best gadgets, tools, techniques that help one learn quicker, memorize tons of complex books, sleep less, or be more alert?')\n",
      "('Who are the best custom kiosk manufacturers in India?', 'What are the newest or best gadgets, tools, techniques that help one learn quicker, memorize tons of complex books, sleep less, or be more alert?')\n",
      "('What is the best plugin list for WordPress blog?', 'What are the newest or best gadgets, tools, techniques that help one learn quicker, memorize tons of complex books, sleep less, or be more alert?')\n",
      "('What are some best examples of Presence of mind?', 'What are the newest or best gadgets, tools, techniques that help one learn quicker, memorize tons of complex books, sleep less, or be more alert?')\n",
      "('What are best Hollywood movies?', 'What are the newest or best gadgets, tools, techniques that help one learn quicker, memorize tons of complex books, sleep less, or be more alert?')\n",
      "('Who is best lingerie online shopping store in India?', 'What are the newest or best gadgets, tools, techniques that help one learn quicker, memorize tons of complex books, sleep less, or be more alert?')\n",
      "('What is the best way to reduce abdominal fat?', 'What are the newest or best gadgets, tools, techniques that help one learn quicker, memorize tons of complex books, sleep less, or be more alert?')\n",
      "('What is the best method of losing weight?', 'What are the newest or best gadgets, tools, techniques that help one learn quicker, memorize tons of complex books, sleep less, or be more alert?')\n",
      "('What is the best site for downloading Kannada films in torrent form?', 'What are the newest or best gadgets, tools, techniques that help one learn quicker, memorize tons of complex books, sleep less, or be more alert?')\n",
      "('Which or what are the best laptops under 35 to 40000 in India?', 'What are the newest or best gadgets, tools, techniques that help one learn quicker, memorize tons of complex books, sleep less, or be more alert?')\n",
      "('Which is the best iPhone 6 case?', 'What are the newest or best gadgets, tools, techniques that help one learn quicker, memorize tons of complex books, sleep less, or be more alert?')\n",
      "('Which is the best phone to buy under Rs.1500?', 'What are the newest or best gadgets, tools, techniques that help one learn quicker, memorize tons of complex books, sleep less, or be more alert?')\n",
      "('Which is the best place to visit in Goa with Friends?', 'What are the newest or best gadgets, tools, techniques that help one learn quicker, memorize tons of complex books, sleep less, or be more alert?')\n",
      "('Which are the best anonymous confessions ever over internet?', 'What are the newest or best gadgets, tools, techniques that help one learn quicker, memorize tons of complex books, sleep less, or be more alert?')\n",
      "('Which country is best for higher education and work?', 'What are the newest or best gadgets, tools, techniques that help one learn quicker, memorize tons of complex books, sleep less, or be more alert?')\n",
      "('What are the best cuisines in the world and why?', 'What are the newest or best gadgets, tools, techniques that help one learn quicker, memorize tons of complex books, sleep less, or be more alert?')\n",
      "('What is the best way of session management in REST architecture?', 'What are the newest or best gadgets, tools, techniques that help one learn quicker, memorize tons of complex books, sleep less, or be more alert?')\n",
      "('What is the best martial art for self defence?', 'What are the newest or best gadgets, tools, techniques that help one learn quicker, memorize tons of complex books, sleep less, or be more alert?')\n",
      "('Which is the best screen recording software for Windows 10?', 'What are the newest or best gadgets, tools, techniques that help one learn quicker, memorize tons of complex books, sleep less, or be more alert?')\n",
      "('What are some of the best \"You know you are in Kolkata when..\" statements?', 'What are the newest or best gadgets, tools, techniques that help one learn quicker, memorize tons of complex books, sleep less, or be more alert?')\n",
      "('Why is C the best programming language?', 'What are the newest or best gadgets, tools, techniques that help one learn quicker, memorize tons of complex books, sleep less, or be more alert?')\n",
      "('What is the best way to understand neural networks and fuzzy logic?', 'What are the newest or best gadgets, tools, techniques that help one learn quicker, memorize tons of complex books, sleep less, or be more alert?')\n",
      "('What are the best resources for learning Ecuadorian Sign Language?', 'Shakespeare once said \"There are more things in heaven and earth, Horatio, than are dreamt of in your philosophy\". How should skeptics best address this question?')\n",
      "('What is the best way to learn astronomy?', 'Shakespeare once said \"There are more things in heaven and earth, Horatio, than are dreamt of in your philosophy\". How should skeptics best address this question?')\n",
      "(\"What are some of people's best memories about this school?\", 'What are the newest or best gadgets, tools, techniques that help one learn quicker, memorize tons of complex books, sleep less, or be more alert?')\n",
      "('What are the best books for cat section wise?', 'What are the best associate product manager (APM) programs that someone in their early 20s can join to learn product management and have a rewarding career in the company?')\n",
      "('Wine: What are the best wineries to visit in the Healdsburg area?', 'What are the newest or best gadgets, tools, techniques that help one learn quicker, memorize tons of complex books, sleep less, or be more alert?')\n",
      "('What is the best n safe destination for a 2-3 days vacation with my gf during September?', 'What are the newest or best gadgets, tools, techniques that help one learn quicker, memorize tons of complex books, sleep less, or be more alert?')\n",
      "('What are the best things to learn in life?', 'Is isolating Pakistan at the international stage the best step India can take after the Uri attacks on the diplomatic front?')\n",
      "('In your opinion, what is the best classical song of all time?', 'What are the newest or best gadgets, tools, techniques that help one learn quicker, memorize tons of complex books, sleep less, or be more alert?')\n",
      "('Which is the best speech you ever heard?', 'What are the newest or best gadgets, tools, techniques that help one learn quicker, memorize tons of complex books, sleep less, or be more alert?')\n",
      "('Pakistani mangoes vs Indian mangoes, which is the best?', 'What are the newest or best gadgets, tools, techniques that help one learn quicker, memorize tons of complex books, sleep less, or be more alert?')\n",
      "('What are some of the best photos?', 'What are the newest or best gadgets, tools, techniques that help one learn quicker, memorize tons of complex books, sleep less, or be more alert?')\n",
      "('What are the best peaceful locations in India for holiday?', 'What are the newest or best gadgets, tools, techniques that help one learn quicker, memorize tons of complex books, sleep less, or be more alert?')\n",
      "('What are best Java UI rendering framework like WPF for .NET?', 'What are the newest or best gadgets, tools, techniques that help one learn quicker, memorize tons of complex books, sleep less, or be more alert?')\n",
      "('What are the best ways to learn to code in a short amount of time?', 'Shakespeare once said \"There are more things in heaven and earth, Horatio, than are dreamt of in your philosophy\". How should skeptics best address this question?')\n",
      "('What should I do if my best friend is addicted to drugs?', 'What are the newest or best gadgets, tools, techniques that help one learn quicker, memorize tons of complex books, sleep less, or be more alert?')\n",
      "('What is the best way to introduce yourself in English?', 'What are the newest or best gadgets, tools, techniques that help one learn quicker, memorize tons of complex books, sleep less, or be more alert?')\n",
      "('What is are the best jobs in the Philippines?', 'What are the newest or best gadgets, tools, techniques that help one learn quicker, memorize tons of complex books, sleep less, or be more alert?')\n",
      "('What is the best wireless internet service provider in India?', 'What are the newest or best gadgets, tools, techniques that help one learn quicker, memorize tons of complex books, sleep less, or be more alert?')\n",
      "('What are the best biking riding gears for all terrain in india?', 'What are the newest or best gadgets, tools, techniques that help one learn quicker, memorize tons of complex books, sleep less, or be more alert?')\n",
      "('Which is best gadget?', 'What are the best associate product manager (APM) programs that someone in their early 20s can join to learn product management and have a rewarding career in the company?')\n",
      "('Which is the best book to understand special relativity?', 'What are the best associate product manager (APM) programs that someone in their early 20s can join to learn product management and have a rewarding career in the company?')\n",
      "('What are the best iphone gadgets that you should buy?', 'What are the best associate product manager (APM) programs that someone in their early 20s can join to learn product management and have a rewarding career in the company?')\n",
      "('Which is the best fiction novel of 2016?', 'What are the newest or best gadgets, tools, techniques that help one learn quicker, memorize tons of complex books, sleep less, or be more alert?')\n",
      "('What is the best way to learn algebra by yourself?', 'Shakespeare once said \"There are more things in heaven and earth, Horatio, than are dreamt of in your philosophy\". How should skeptics best address this question?')\n",
      "('Which is the best PMP Certification course provider in Bangalore?', 'What are the newest or best gadgets, tools, techniques that help one learn quicker, memorize tons of complex books, sleep less, or be more alert?')\n",
      "('What is the best time to book a Caribbean trip?', 'What are the best associate product manager (APM) programs that someone in their early 20s can join to learn product management and have a rewarding career in the company?')\n",
      "('What stocks are the best to invest in right now?', 'What are the newest or best gadgets, tools, techniques that help one learn quicker, memorize tons of complex books, sleep less, or be more alert?')\n",
      "('What is the best Final Fantasy game?', 'What are the newest or best gadgets, tools, techniques that help one learn quicker, memorize tons of complex books, sleep less, or be more alert?')\n",
      "('What are the best job fairs near Detroit? When and where are they held? What were your experiences at them?', 'What are the newest or best gadgets, tools, techniques that help one learn quicker, memorize tons of complex books, sleep less, or be more alert?')\n",
      "('What are the best digital marketing courses for mid-senior level marketing managers?', 'What are the newest or best gadgets, tools, techniques that help one learn quicker, memorize tons of complex books, sleep less, or be more alert?')\n",
      "('Which is the best budget laptop under 50,000 INR?', 'What are the newest or best gadgets, tools, techniques that help one learn quicker, memorize tons of complex books, sleep less, or be more alert?')\n",
      "('What are the best things to buy on Amazon?', 'What are the newest or best gadgets, tools, techniques that help one learn quicker, memorize tons of complex books, sleep less, or be more alert?')\n",
      "(\"Adam D'Angelo: Which tank is the best in World of Tanks?\", 'What are the newest or best gadgets, tools, techniques that help one learn quicker, memorize tons of complex books, sleep less, or be more alert?')\n",
      "('What is the best food in Pune and where do I get it?', 'What are the newest or best gadgets, tools, techniques that help one learn quicker, memorize tons of complex books, sleep less, or be more alert?')\n",
      "('Which book is best for Neet chemistry?', 'What are the best associate product manager (APM) programs that someone in their early 20s can join to learn product management and have a rewarding career in the company?')\n",
      "('Which laptop is best to buy within the range of 30000rs?', 'What are the newest or best gadgets, tools, techniques that help one learn quicker, memorize tons of complex books, sleep less, or be more alert?')\n",
      "('What are the best institutes for MS in USA?', 'What are the newest or best gadgets, tools, techniques that help one learn quicker, memorize tons of complex books, sleep less, or be more alert?')\n",
      "('Which is the best institute for GMAT preparations in Delhi?', 'What are the newest or best gadgets, tools, techniques that help one learn quicker, memorize tons of complex books, sleep less, or be more alert?')\n",
      "('What is the best beginner friendly book on python?', 'What are the best associate product manager (APM) programs that someone in their early 20s can join to learn product management and have a rewarding career in the company?')\n",
      "('What are the best YouTube channels to learn medicine?', 'Shakespeare once said \"There are more things in heaven and earth, Horatio, than are dreamt of in your philosophy\". How should skeptics best address this question?')\n",
      "('Who is the best prime minister of India?', 'What are the newest or best gadgets, tools, techniques that help one learn quicker, memorize tons of complex books, sleep less, or be more alert?')\n",
      "('Who is the best doctor for hair loss treatment in Chennai?', 'What are the newest or best gadgets, tools, techniques that help one learn quicker, memorize tons of complex books, sleep less, or be more alert?')\n",
      "('What is the best way to reduce belly and arm fat?', 'What are the newest or best gadgets, tools, techniques that help one learn quicker, memorize tons of complex books, sleep less, or be more alert?')\n",
      "('Which is the best Panasonic service center in Hyderabad?', 'What are the newest or best gadgets, tools, techniques that help one learn quicker, memorize tons of complex books, sleep less, or be more alert?')\n",
      "('What are the top 3 musical pieces that best represent love?', 'What are the newest or best gadgets, tools, techniques that help one learn quicker, memorize tons of complex books, sleep less, or be more alert?')\n",
      "('Which is the best vehicle to clear the level in Hill Climb Racing?', 'What are the newest or best gadgets, tools, techniques that help one learn quicker, memorize tons of complex books, sleep less, or be more alert?')\n",
      "('What are some of the best romantic movies in English?', 'What are the newest or best gadgets, tools, techniques that help one learn quicker, memorize tons of complex books, sleep less, or be more alert?')\n",
      "('What is the best travel health insurance for my parents (Non-US citizens) who are visiting the States?', 'What are the newest or best gadgets, tools, techniques that help one learn quicker, memorize tons of complex books, sleep less, or be more alert?')\n",
      "('What are the best free and legal music download sites?', 'What are the newest or best gadgets, tools, techniques that help one learn quicker, memorize tons of complex books, sleep less, or be more alert?')\n",
      "('What is the best phone to buy below 15k?', 'What are the newest or best gadgets, tools, techniques that help one learn quicker, memorize tons of complex books, sleep less, or be more alert?')\n",
      "('Which are the best movies of 2016?', 'What are the newest or best gadgets, tools, techniques that help one learn quicker, memorize tons of complex books, sleep less, or be more alert?')\n",
      "('What is the best way to restore a Dell Inspiron 530 to factory settings?', 'What are the newest or best gadgets, tools, techniques that help one learn quicker, memorize tons of complex books, sleep less, or be more alert?')\n",
      "('Which is the best analytics institute in Bangalore with placement support?', 'What are the newest or best gadgets, tools, techniques that help one learn quicker, memorize tons of complex books, sleep less, or be more alert?')\n",
      "('Which is the best job, Java developer or maintaining a data warehouse?', 'What are the newest or best gadgets, tools, techniques that help one learn quicker, memorize tons of complex books, sleep less, or be more alert?')\n",
      "('Can you suggest a best budget phone below 15k?', 'What are the newest or best gadgets, tools, techniques that help one learn quicker, memorize tons of complex books, sleep less, or be more alert?')\n",
      "('What are the best available smartphones gadgets?', 'What are the best associate product manager (APM) programs that someone in their early 20s can join to learn product management and have a rewarding career in the company?')\n",
      "('What are some of the best coaching institutes for GMAT in Delhi/NCR?', 'What are the newest or best gadgets, tools, techniques that help one learn quicker, memorize tons of complex books, sleep less, or be more alert?')\n",
      "('What is the best way to prepare for the theoretical part of the CA Final Exam?', 'What are the newest or best gadgets, tools, techniques that help one learn quicker, memorize tons of complex books, sleep less, or be more alert?')\n",
      "(\"What is the best gift you've received?\", 'What are the newest or best gadgets, tools, techniques that help one learn quicker, memorize tons of complex books, sleep less, or be more alert?')\n",
      "('What is a good song to lyric prank your best friend?', 'What are the newest or best gadgets, tools, techniques that help one learn quicker, memorize tons of complex books, sleep less, or be more alert?')\n",
      "('What is the best superpower to have?', 'What are the newest or best gadgets, tools, techniques that help one learn quicker, memorize tons of complex books, sleep less, or be more alert?')\n",
      "('Which are the best universities in the USA for doing a MS in Computer Science?', 'What are the newest or best gadgets, tools, techniques that help one learn quicker, memorize tons of complex books, sleep less, or be more alert?')\n",
      "(\"What's the best school in the world?\", 'What are the newest or best gadgets, tools, techniques that help one learn quicker, memorize tons of complex books, sleep less, or be more alert?')\n",
      "('Is it normal to not cry after hearing your best friend tell you that heâ€™s going to die before graduation?', 'What are the newest or best gadgets, tools, techniques that help one learn quicker, memorize tons of complex books, sleep less, or be more alert?')\n",
      "('What are the best mobile app development companies in UAE?', 'What are the newest or best gadgets, tools, techniques that help one learn quicker, memorize tons of complex books, sleep less, or be more alert?')\n",
      "('What is the best app for Berlin public transportation?', 'What are the newest or best gadgets, tools, techniques that help one learn quicker, memorize tons of complex books, sleep less, or be more alert?')\n",
      "('What are some of the best jokes?', 'What are the newest or best gadgets, tools, techniques that help one learn quicker, memorize tons of complex books, sleep less, or be more alert?')\n",
      "('Is Donald Trump the best for America?', 'What are the newest or best gadgets, tools, techniques that help one learn quicker, memorize tons of complex books, sleep less, or be more alert?')\n",
      "('What are the best technology for mobile phones?', 'What are the newest or best gadgets, tools, techniques that help one learn quicker, memorize tons of complex books, sleep less, or be more alert?')\n",
      "('What are the best gifts to give a girlfriend in India?', 'What are the newest or best gadgets, tools, techniques that help one learn quicker, memorize tons of complex books, sleep less, or be more alert?')\n",
      "(\"What is the best way to learn web programming (I'd prefer Ruby)? What do I start with? What are the next steps?\", 'Shakespeare once said \"There are more things in heaven and earth, Horatio, than are dreamt of in your philosophy\". How should skeptics best address this question?')\n",
      "('What is the best way to do SEO in 2016?', 'What are the newest or best gadgets, tools, techniques that help one learn quicker, memorize tons of complex books, sleep less, or be more alert?')\n",
      "('What is the best way to invest in oil and natural gas?', 'What are the newest or best gadgets, tools, techniques that help one learn quicker, memorize tons of complex books, sleep less, or be more alert?')\n",
      "('What is the best evidence for a historical Jesus?', 'What are the newest or best gadgets, tools, techniques that help one learn quicker, memorize tons of complex books, sleep less, or be more alert?')\n",
      "('Which is the best dance academy in Pune?', 'What are the newest or best gadgets, tools, techniques that help one learn quicker, memorize tons of complex books, sleep less, or be more alert?')\n",
      "('What is the best forum for graphic designers?', 'What are the newest or best gadgets, tools, techniques that help one learn quicker, memorize tons of complex books, sleep less, or be more alert?')\n",
      "('What is the best certification course to learn digital marketing?', 'Shakespeare once said \"There are more things in heaven and earth, Horatio, than are dreamt of in your philosophy\". How should skeptics best address this question?')\n",
      "('Which is the best way to control anger?', 'What are the newest or best gadgets, tools, techniques that help one learn quicker, memorize tons of complex books, sleep less, or be more alert?')\n",
      "('Which is the best SEO â€ªCompanyâ€¬ in â€ªDelhiâ€¬?', 'What are the newest or best gadgets, tools, techniques that help one learn quicker, memorize tons of complex books, sleep less, or be more alert?')\n",
      "('Which is the best gaming laptop under 40k?', 'What are the newest or best gadgets, tools, techniques that help one learn quicker, memorize tons of complex books, sleep less, or be more alert?')\n",
      "('Audio Equipment: What is the best Headphone under Rs 2K available in India?', 'What are the newest or best gadgets, tools, techniques that help one learn quicker, memorize tons of complex books, sleep less, or be more alert?')\n",
      "('What are the best things to do on Halloween?', 'What are the newest or best gadgets, tools, techniques that help one learn quicker, memorize tons of complex books, sleep less, or be more alert?')\n",
      "('What are the best co-working spaces and meeting room rental options in Kathmandu?', 'What are the newest or best gadgets, tools, techniques that help one learn quicker, memorize tons of complex books, sleep less, or be more alert?')\n",
      "(\"What was the best advice you've ever received?\", 'What are the newest or best gadgets, tools, techniques that help one learn quicker, memorize tons of complex books, sleep less, or be more alert?')\n",
      "(\"What's the best reverse osmosis system?\", 'What are the newest or best gadgets, tools, techniques that help one learn quicker, memorize tons of complex books, sleep less, or be more alert?')\n",
      "('What are the best ways to learn French?', 'Shakespeare once said \"There are more things in heaven and earth, Horatio, than are dreamt of in your philosophy\". How should skeptics best address this question?')\n",
      "('What is your best sexual experience?', 'What are the newest or best gadgets, tools, techniques that help one learn quicker, memorize tons of complex books, sleep less, or be more alert?')\n",
      "('What is the best romance anime?', 'What are the newest or best gadgets, tools, techniques that help one learn quicker, memorize tons of complex books, sleep less, or be more alert?')\n",
      "('What is the best joke about engineers that very few people have heard?', 'What are the newest or best gadgets, tools, techniques that help one learn quicker, memorize tons of complex books, sleep less, or be more alert?')\n",
      "('What are the best songs for low voices?', 'What are the newest or best gadgets, tools, techniques that help one learn quicker, memorize tons of complex books, sleep less, or be more alert?')\n",
      "('What are some best power banks?', 'What are the newest or best gadgets, tools, techniques that help one learn quicker, memorize tons of complex books, sleep less, or be more alert?')\n",
      "('What are the best career growth technologies for automation engineers apart from automation tools?', 'Shakespeare once said \"There are more things in heaven and earth, Horatio, than are dreamt of in your philosophy\". How should skeptics best address this question?')\n",
      "('What is the best way to get online help for editing in a research paper?', 'What are the best associate product manager (APM) programs that someone in their early 20s can join to learn product management and have a rewarding career in the company?')\n",
      "('What are the best workout songs?', 'What are the newest or best gadgets, tools, techniques that help one learn quicker, memorize tons of complex books, sleep less, or be more alert?')\n",
      "('What are the best ways to wake up early?', 'What are the newest or best gadgets, tools, techniques that help one learn quicker, memorize tons of complex books, sleep less, or be more alert?')\n",
      "(\"What are the best new products or gadgets that most people don't know about?\", 'Shakespeare once said \"There are more things in heaven and earth, Horatio, than are dreamt of in your philosophy\". How should skeptics best address this question?')\n",
      "('What is the best way to soak gummy bears in Ciroc vodka?', 'What are the newest or best gadgets, tools, techniques that help one learn quicker, memorize tons of complex books, sleep less, or be more alert?')\n",
      "('What is the best programming language one must learn to stay updated today?', 'Shakespeare once said \"There are more things in heaven and earth, Horatio, than are dreamt of in your philosophy\". How should skeptics best address this question?')\n",
      "('What is the best place to visit in the world? What is the best place to visit in India? What is the best place to visit in Bihar?', 'What are the newest or best gadgets, tools, techniques that help one learn quicker, memorize tons of complex books, sleep less, or be more alert?')\n",
      "('What is the best way to gain confidence?', 'What are the newest or best gadgets, tools, techniques that help one learn quicker, memorize tons of complex books, sleep less, or be more alert?')\n",
      "('Which are some of the best romantic movies?', 'What are the newest or best gadgets, tools, techniques that help one learn quicker, memorize tons of complex books, sleep less, or be more alert?')\n",
      "('In what sectors is it best to live in Gurgaon?', 'What are the newest or best gadgets, tools, techniques that help one learn quicker, memorize tons of complex books, sleep less, or be more alert?')\n",
      "('What are some of the best side dishes for pork chops?', 'What are the newest or best gadgets, tools, techniques that help one learn quicker, memorize tons of complex books, sleep less, or be more alert?')\n",
      "('What is the best way to talk English fluently?', 'What are the newest or best gadgets, tools, techniques that help one learn quicker, memorize tons of complex books, sleep less, or be more alert?')\n",
      "('Which is the best honeymoon destination in kerala?', 'What are the newest or best gadgets, tools, techniques that help one learn quicker, memorize tons of complex books, sleep less, or be more alert?')\n",
      "('Which is the best sitcom: the Big Bang Theory, HIMYM or Friends?', 'What are the newest or best gadgets, tools, techniques that help one learn quicker, memorize tons of complex books, sleep less, or be more alert?')\n",
      "('Which is the best SSC and banking training insititute in Chandigarh?', 'What are the newest or best gadgets, tools, techniques that help one learn quicker, memorize tons of complex books, sleep less, or be more alert?')\n",
      "('Which is the best programing language for tcs?', 'What are the newest or best gadgets, tools, techniques that help one learn quicker, memorize tons of complex books, sleep less, or be more alert?')\n",
      "(\"What's the best way to copy music from my iPhone back to iTunes?\", 'What are the newest or best gadgets, tools, techniques that help one learn quicker, memorize tons of complex books, sleep less, or be more alert?')\n",
      "('What are the best aspects of living in HuÃ¡nuco, Peru as a young adult?', 'What are the newest or best gadgets, tools, techniques that help one learn quicker, memorize tons of complex books, sleep less, or be more alert?')\n",
      "('What is the the best free wordpress theme for oniline printing shop?', 'What are the newest or best gadgets, tools, techniques that help one learn quicker, memorize tons of complex books, sleep less, or be more alert?')\n",
      "('What is the best app to learn English?', 'Shakespeare once said \"There are more things in heaven and earth, Horatio, than are dreamt of in your philosophy\". How should skeptics best address this question?')\n",
      "('Is isolating Pakistan at the international stage the best step India can take after the Uri attacks on the diplomatic front?', 'What are the newest or best gadgets, tools, techniques that help one learn quicker, memorize tons of complex books, sleep less, or be more alert?')\n",
      "('What are the best historical books on John Muir?', 'What are the best associate product manager (APM) programs that someone in their early 20s can join to learn product management and have a rewarding career in the company?')\n",
      "('What are the newest or best gadgets, tools, techniques that help one learn quicker, memorize tons of complex books, sleep less, or be more alert?', 'Shakespeare once said \"There are more things in heaven and earth, Horatio, than are dreamt of in your philosophy\". How should skeptics best address this question?')\n",
      "('Which are the best places to learn Spanish abroad?', 'Shakespeare once said \"There are more things in heaven and earth, Horatio, than are dreamt of in your philosophy\". How should skeptics best address this question?')\n",
      "('What are the best programming languages to learn today?', 'Shakespeare once said \"There are more things in heaven and earth, Horatio, than are dreamt of in your philosophy\". How should skeptics best address this question?')\n",
      "('Which is the best programming language to learn in 2017?', 'Shakespeare once said \"There are more things in heaven and earth, Horatio, than are dreamt of in your philosophy\". How should skeptics best address this question?')\n",
      "(\"What are the best self-help books you've ever read?\", 'What are the best associate product manager (APM) programs that someone in their early 20s can join to learn product management and have a rewarding career in the company?')\n",
      "('Can any one suggest the best foods for gaining weight?', 'What are the best associate product manager (APM) programs that someone in their early 20s can join to learn product management and have a rewarding career in the company?')\n",
      "('What are the best Smartphones tech gadgets?', 'What are the best associate product manager (APM) programs that someone in their early 20s can join to learn product management and have a rewarding career in the company?')\n",
      "('\"Every one is unique in this world\", what are the best ways to find my uniqueness?', 'What are the best associate product manager (APM) programs that someone in their early 20s can join to learn product management and have a rewarding career in the company?')\n",
      "('What are the best car technology gadgets?', 'What are the best associate product manager (APM) programs that someone in their early 20s can join to learn product management and have a rewarding career in the company?')\n",
      "('Which is the best reference books for ICSE class 8 science?', 'What are the best associate product manager (APM) programs that someone in their early 20s can join to learn product management and have a rewarding career in the company?')\n",
      "('What is the best book ever made?', 'What are the best associate product manager (APM) programs that someone in their early 20s can join to learn product management and have a rewarding career in the company?')\n",
      "('Which book is the best for IELTS self preparation?', 'What are the best associate product manager (APM) programs that someone in their early 20s can join to learn product management and have a rewarding career in the company?')\n",
      "('What are the best books that one should must read?', 'What are the best associate product manager (APM) programs that someone in their early 20s can join to learn product management and have a rewarding career in the company?')\n",
      "('Why are some questions marked as \"needing improvement\" when clearly they do not need improving?', 'What are the most annoying types of highly upvoted answers on Quora?')\n",
      "('Can you please let me know the password of your email-id? I need it for checking some things. INTERVIEW ANSWER TO THIS QUESTION', 'How do I earn from Quora?')\n",
      "('How many questions have you asked on Quora?', 'Why does Quora succeed in spite of having some other Q and A websites like Yahoo Answers and Wiki Answers?')\n",
      "(\"What is Quora's policy on expressing opinions and proselytizing to answer questions?\", 'Are people just being ignorant when they ask here on Quora instead of simply typing it into say Google?')\n",
      "('Why is Quora claiming my questions need improvement?', 'Why does Quora succeed in spite of having some other Q and A websites like Yahoo Answers and Wiki Answers?')\n",
      "('Why is nobody answering my questions in Quora?', 'Are people just being ignorant when they ask here on Quora instead of simply typing it into say Google?')\n",
      "('What was (or is) the stupidest question asked on Quora?', 'Why does Quora succeed in spite of having some other Q and A websites like Yahoo Answers and Wiki Answers?')\n",
      "('How do I ask questions with pictures on \"Quora\"?', 'Why does Quora succeed in spite of having some other Q and A websites like Yahoo Answers and Wiki Answers?')\n",
      "('Why do people on Quora ask silly questions about the facts which can be googled very easily?', 'Why does Quora succeed in spite of having some other Q and A websites like Yahoo Answers and Wiki Answers?')\n",
      "('How do you post a question on Quora?', 'Why does Quora succeed in spite of having some other Q and A websites like Yahoo Answers and Wiki Answers?')\n",
      "('How many questions does Jimmy Wales answer on Quora per day?', 'Are people just being ignorant when they ask here on Quora instead of simply typing it into say Google?')\n",
      "('How do you delete a question you asked on Quora', 'Why does Quora succeed in spite of having some other Q and A websites like Yahoo Answers and Wiki Answers?')\n",
      "('What are the questions should not ask on Quora?', 'Why does Quora succeed in spite of having some other Q and A websites like Yahoo Answers and Wiki Answers?')\n",
      "('What is that one question or answer on Quora that changed your life?', 'Are people just being ignorant when they ask here on Quora instead of simply typing it into say Google?')\n",
      "('What are some of the most surreal questions asked on Quora?', 'Why does Quora succeed in spite of having some other Q and A websites like Yahoo Answers and Wiki Answers?')\n",
      "('What is the best way to find good questions on Quora?', 'Why does Quora succeed in spite of having some other Q and A websites like Yahoo Answers and Wiki Answers?')\n",
      "('What can I do to improve my question on Quora?', 'Why does Quora succeed in spite of having some other Q and A websites like Yahoo Answers and Wiki Answers?')\n",
      "('How do you answer a question on Quora?', 'Are people just being ignorant when they ask here on Quora instead of simply typing it into say Google?')\n",
      "('Why is no one answering my questions in Quora?', 'Are people just being ignorant when they ask here on Quora instead of simply typing it into say Google?')\n",
      "('If I use a VPN while downloading torrents will I get caught?', \"How do I set and unset a cookie using jQuery, for example create a cookie named 'someName' and set its value to 'someValue'?\")\n",
      "('What is the best computer science course I can take that will not focus too much on the language they use?', \"How do I set and unset a cookie using jQuery, for example create a cookie named 'someName' and set its value to 'someValue'?\")\n",
      "('Softwares used for designing in automobile industry which one should know?', \"How do I set and unset a cookie using jQuery, for example create a cookie named 'someName' and set its value to 'someValue'?\")\n",
      "(\"When writing an official letter, if one does't know if a woman is married or not, what prefix should one use to address her?\", \"How do I set and unset a cookie using jQuery, for example create a cookie named 'someName' and set its value to 'someValue'?\")\n",
      "('Should I buy a used rental car?', \"How do I set and unset a cookie using jQuery, for example create a cookie named 'someName' and set its value to 'someValue'?\")\n",
      "(\"What is the sigmoid function, and what is its use in machine learning's neural networks?\", \"How do I set and unset a cookie using jQuery, for example create a cookie named 'someName' and set its value to 'someValue'?\")\n",
      "(\"Can I hack someone's mobile using IP address?\", \"How do I set and unset a cookie using jQuery, for example create a cookie named 'someName' and set its value to 'someValue'?\")\n",
      "('Can fossil records be used as evidence for evolution? If so, how?', \"How do I set and unset a cookie using jQuery, for example create a cookie named 'someName' and set its value to 'someValue'?\")\n",
      "('Which book should i use for JEE  organic chemistry?', \"How do I set and unset a cookie using jQuery, for example create a cookie named 'someName' and set its value to 'someValue'?\")\n",
      "(\"The Martian (2015 movie): Why couldn't Matt Damon grow more potatoes using the poop logic he used for the first time?\", \"How do I set and unset a cookie using jQuery, for example create a cookie named 'someName' and set its value to 'someValue'?\")\n",
      "('I forgot my password and the email address I used to create my Snapchat account. How can I log in or at least change my email address or password?', 'Could we use cherenkov atmosphere radiation (with gamma rays or similar) to image the surface of a planet from here with ground based telescopes?')\n",
      "('What is the best workflow for using Adobe Fireworks for iPhone Retina UI Design?', \"How do I set and unset a cookie using jQuery, for example create a cookie named 'someName' and set its value to 'someValue'?\")\n",
      "('What are types of pipes used in oil and gas industries?', \"How do I set and unset a cookie using jQuery, for example create a cookie named 'someName' and set its value to 'someValue'?\")\n",
      "('Why did Hillary Clinton think it was necessary to use a private server to conduct her personal and government communications?', \"How do I set and unset a cookie using jQuery, for example create a cookie named 'someName' and set its value to 'someValue'?\")\n",
      "('Do inkjet printers use color ink when printing black and white documents? If so, why?', \"How do I set and unset a cookie using jQuery, for example create a cookie named 'someName' and set its value to 'someValue'?\")\n",
      "('How do I determine the side of latent strabismus using cover uncover test?', \"How do I set and unset a cookie using jQuery, for example create a cookie named 'someName' and set its value to 'someValue'?\")\n",
      "(\"What is the definition of 'levity' and how is it used in a sentence?\", \"How do I set and unset a cookie using jQuery, for example create a cookie named 'someName' and set its value to 'someValue'?\")\n",
      "('Which non Arabic speaking countries use Arabic at the UN or other international conferences, meetings and summits?', \"How do I set and unset a cookie using jQuery, for example create a cookie named 'someName' and set its value to 'someValue'?\")\n",
      "('What are the multiple uses of hollow columns?', \"How do I set and unset a cookie using jQuery, for example create a cookie named 'someName' and set its value to 'someValue'?\")\n",
      "('Do Indian girls use dildos? What kind of dildo?', \"How do I set and unset a cookie using jQuery, for example create a cookie named 'someName' and set its value to 'someValue'?\")\n",
      "('Will Google deactivate my Gmail account if it is not used? After how long does it deactivate?', \"How do I set and unset a cookie using jQuery, for example create a cookie named 'someName' and set its value to 'someValue'?\")\n",
      "('What are the sensors available in Acer Liquid Z630S Android Smart phone by using CPU-Z App?', \"How do I set and unset a cookie using jQuery, for example create a cookie named 'someName' and set its value to 'someValue'?\")\n",
      "(\"What's the difference between T-Mobile and MetroPCS? Both are owned by the same company and use the same towers. Why should I pay more for T-Mobile service?\", \"How do I set and unset a cookie using jQuery, for example create a cookie named 'someName' and set its value to 'someValue'?\")\n",
      "(\"Why don't we use conveyor belts to shorten airport runways? If this idea is new, does that mean it should at least be named after me, if not patented?\", 'Could we use cherenkov atmosphere radiation (with gamma rays or similar) to image the surface of a planet from here with ground based telescopes?')\n",
      "('How can I open a WhatsApp database (crypt8) without using a rooted phone?', \"How do I set and unset a cookie using jQuery, for example create a cookie named 'someName' and set its value to 'someValue'?\")\n",
      "(\"Is the use of the phrase 'pass out' to mean 'graduate' correct? If correct, is it common?\", \"How do I set and unset a cookie using jQuery, for example create a cookie named 'someName' and set its value to 'someValue'?\")\n",
      "('Why does Facebook Messenger use long polling over WebSockets?', \"How do I set and unset a cookie using jQuery, for example create a cookie named 'someName' and set its value to 'someValue'?\")\n",
      "('What is the best Deep Learning library that can be used in mobile application development?', \"How do I set and unset a cookie using jQuery, for example create a cookie named 'someName' and set its value to 'someValue'?\")\n",
      "('Can I use Jio 4G sim in 3G mobile?', \"How do I set and unset a cookie using jQuery, for example create a cookie named 'someName' and set its value to 'someValue'?\")\n",
      "('What is protabol 25 injection used for? Is it safe to use? How many doses are required?', \"How do I set and unset a cookie using jQuery, for example create a cookie named 'someName' and set its value to 'someValue'?\")\n",
      "('Which type of foundation is used in Indo-pak border?', \"How do I set and unset a cookie using jQuery, for example create a cookie named 'someName' and set its value to 'someValue'?\")\n",
      "('What physiological tricks are useful to know?', \"How do I set and unset a cookie using jQuery, for example create a cookie named 'someName' and set its value to 'someValue'?\")\n",
      "('What prompted Wheel of Fortune to use the letters R S T L N and E in the bonus round?', \"How do I set and unset a cookie using jQuery, for example create a cookie named 'someName' and set its value to 'someValue'?\")\n",
      "('What are 10 ways in which microorganisms are useful?', \"How do I set and unset a cookie using jQuery, for example create a cookie named 'someName' and set its value to 'someValue'?\")\n",
      "('How can plastic wrap be used for weight loss?', \"How do I set and unset a cookie using jQuery, for example create a cookie named 'someName' and set its value to 'someValue'?\")\n",
      "('Who do I activate the dlc of skyrim in a laptop? Ive got it working on my computer after doing the command lines, but did the same on laptop, to no use..', \"How do I set and unset a cookie using jQuery, for example create a cookie named 'someName' and set its value to 'someValue'?\")\n",
      "('I changed my sim card but use the same phone. Will the new Viber account from my latest sim card overwrite my previous Viber accounts data? Can I recover it using a third party app?', \"How do I set and unset a cookie using jQuery, for example create a cookie named 'someName' and set its value to 'someValue'?\")\n",
      "('Is it harmful to eat using plastic utensils?', \"How do I set and unset a cookie using jQuery, for example create a cookie named 'someName' and set its value to 'someValue'?\")\n",
      "('If SDS page is used, will the charge on all the proteins be same?', \"How do I set and unset a cookie using jQuery, for example create a cookie named 'someName' and set its value to 'someValue'?\")\n",
      "('How can I use crying to release buried emotional pain (loneliness, a bit of grief)?', \"How do I set and unset a cookie using jQuery, for example create a cookie named 'someName' and set its value to 'someValue'?\")\n",
      "('Can I not use Facebook Workplace without a unique domain email address?', \"How do I set and unset a cookie using jQuery, for example create a cookie named 'someName' and set its value to 'someValue'?\")\n",
      "('Is Quora useful?', \"How do I set and unset a cookie using jQuery, for example create a cookie named 'someName' and set its value to 'someValue'?\")\n",
      "('How is the word \"jocund\" used in a sentence?', \"How do I set and unset a cookie using jQuery, for example create a cookie named 'someName' and set its value to 'someValue'?\")\n",
      "('How do I create a new shell in a new terminal using C programming (Linux terminal)?', 'Could we use cherenkov atmosphere radiation (with gamma rays or similar) to image the surface of a planet from here with ground based telescopes?')\n",
      "('Is it okay to use masking tape on a painted wall while sticking up posters? If not, should I use regular scotch tape?', \"How do I set and unset a cookie using jQuery, for example create a cookie named 'someName' and set its value to 'someValue'?\")\n",
      "('Which payment gateway in Saudi that using to collect and pay money from/to multiple ?', \"How do I set and unset a cookie using jQuery, for example create a cookie named 'someName' and set its value to 'someValue'?\")\n",
      "('How can I know if my boyfriend is using dating apps?', \"How do I set and unset a cookie using jQuery, for example create a cookie named 'someName' and set its value to 'someValue'?\")\n",
      "(\"What app/website let's me use a security camera filter?\", \"How do I set and unset a cookie using jQuery, for example create a cookie named 'someName' and set its value to 'someValue'?\")\n",
      "('How do small wearable devices (like Fitbit) exchange data with a server? What sensors/chips do they use?', \"How do I set and unset a cookie using jQuery, for example create a cookie named 'someName' and set its value to 'someValue'?\")\n",
      "(\"How do I use Google's image search?\", \"How do I set and unset a cookie using jQuery, for example create a cookie named 'someName' and set its value to 'someValue'?\")\n",
      "('If I jump rope for five minutes, how many calories will I use?', \"How do I set and unset a cookie using jQuery, for example create a cookie named 'someName' and set its value to 'someValue'?\")\n",
      "('How do I use Twitter as a business source?', \"How do I set and unset a cookie using jQuery, for example create a cookie named 'someName' and set its value to 'someValue'?\")\n",
      "('Is it a good idea to buy a used car from a rental car company?', \"How do I set and unset a cookie using jQuery, for example create a cookie named 'someName' and set its value to 'someValue'?\")\n",
      "(\"Why don't nuclear submarines use aft torpedoes? And why do most US subs only have four tubes?\", \"How do I set and unset a cookie using jQuery, for example create a cookie named 'someName' and set its value to 'someValue'?\")\n",
      "('How do I lock folders with a password without using any external software in Windows 8.1?', \"How do I set and unset a cookie using jQuery, for example create a cookie named 'someName' and set its value to 'someValue'?\")\n",
      "('What phone do you use right now?', \"How do I set and unset a cookie using jQuery, for example create a cookie named 'someName' and set its value to 'someValue'?\")\n",
      "('What sentences use all 26 letters without any repeats?', \"How do I set and unset a cookie using jQuery, for example create a cookie named 'someName' and set its value to 'someValue'?\")\n",
      "('Could we use cherenkov atmosphere radiation (with gamma rays or similar) to image the surface of a planet from here with ground based telescopes?', \"How do I set and unset a cookie using jQuery, for example create a cookie named 'someName' and set its value to 'someValue'?\")\n",
      "('Is it good to use Dettol liquid in bathing water?', \"How do I set and unset a cookie using jQuery, for example create a cookie named 'someName' and set its value to 'someValue'?\")\n",
      "('What are the best Bible verses to use in wedding ceremonies?', \"How do I set and unset a cookie using jQuery, for example create a cookie named 'someName' and set its value to 'someValue'?\")\n",
      "(\"How is the word 'ubiquitous' used in a sentence?\", \"How do I set and unset a cookie using jQuery, for example create a cookie named 'someName' and set its value to 'someValue'?\")\n",
      "('Should I use Swift or Objective-C to learn iOS development?', \"How do I set and unset a cookie using jQuery, for example create a cookie named 'someName' and set its value to 'someValue'?\")\n",
      "('Is it possible to use SPI between AVR and Raspberry pi?', \"How do I set and unset a cookie using jQuery, for example create a cookie named 'someName' and set its value to 'someValue'?\")\n",
      "('What are the sensors available in Acer Liquid Z630S Android Smart phone by using CPU-Z App?', \"How do I set and unset a cookie using jQuery, for example create a cookie named 'someName' and set its value to 'someValue'?\")\n",
      "('Is it illegal to use a fake .edu email to get student discounts?', \"How do I set and unset a cookie using jQuery, for example create a cookie named 'someName' and set its value to 'someValue'?\")\n",
      "('How do I use Spotify in India on Mac?', \"How do I set and unset a cookie using jQuery, for example create a cookie named 'someName' and set its value to 'someValue'?\")\n",
      "('What websites do you use everyday?', \"How do I set and unset a cookie using jQuery, for example create a cookie named 'someName' and set its value to 'someValue'?\")\n",
      "('How is petrol or diesel pumped up in a filling station using a motor without igniting any fire?', \"How do I set and unset a cookie using jQuery, for example create a cookie named 'someName' and set its value to 'someValue'?\")\n",
      "('How do I find max/min in arrays using recursion in C?', \"How do I set and unset a cookie using jQuery, for example create a cookie named 'someName' and set its value to 'someValue'?\")\n",
      "('For what use cases do you think deep learning and neural networks overkill and simpler models work better in practice?', \"How do I set and unset a cookie using jQuery, for example create a cookie named 'someName' and set its value to 'someValue'?\")\n",
      "(\"How is the word 'anachronism' used in sentences?\", \"How do I set and unset a cookie using jQuery, for example create a cookie named 'someName' and set its value to 'someValue'?\")\n",
      "(\"Is it possible to make doctor's review app using which patients can share anonymously all treatment given by that doctor, suggested medicines,?\", \"How do I set and unset a cookie using jQuery, for example create a cookie named 'someName' and set its value to 'someValue'?\")\n",
      "('Why is Quora useful and successful?', \"How do I set and unset a cookie using jQuery, for example create a cookie named 'someName' and set its value to 'someValue'?\")\n",
      "('Can I recover iMessages if I deleted them (used right click delete) and then emptied my trash can?', \"How do I set and unset a cookie using jQuery, for example create a cookie named 'someName' and set its value to 'someValue'?\")\n",
      "('What was the most useful invention of 2014?', \"How do I set and unset a cookie using jQuery, for example create a cookie named 'someName' and set its value to 'someValue'?\")\n",
      "('How do I burn a dvd movie using windows 10? (PLEASE read description before answering)', \"How do I set and unset a cookie using jQuery, for example create a cookie named 'someName' and set its value to 'someValue'?\")\n",
      "('can I use magnets to push an object in motion away from another object in motion using repulsion?', \"How do I set and unset a cookie using jQuery, for example create a cookie named 'someName' and set its value to 'someValue'?\")\n",
      "('How can I increase the speed of my internet connection while using a VPN?', \"How do I set and unset a cookie using jQuery, for example create a cookie named 'someName' and set its value to 'someValue'?\")\n",
      "('Which books are to be used for preparation for the  Physics Olympiad?', \"How do I set and unset a cookie using jQuery, for example create a cookie named 'someName' and set its value to 'someValue'?\")\n",
      "('Method to find separation of slits using fresnel biprism?', \"How do I set and unset a cookie using jQuery, for example create a cookie named 'someName' and set its value to 'someValue'?\")\n",
      "('Should I use Vicks Vapor Rub for a stuffy nose?', \"How do I set and unset a cookie using jQuery, for example create a cookie named 'someName' and set its value to 'someValue'?\")\n",
      "('What is the opera song with a choir used for horror movies?', \"How do I set and unset a cookie using jQuery, for example create a cookie named 'someName' and set its value to 'someValue'?\")\n",
      "('Could magnets be used to clean up space debris?', \"How do I set and unset a cookie using jQuery, for example create a cookie named 'someName' and set its value to 'someValue'?\")\n",
      "('Can I use Jio SIM in iPhone 5s?', \"How do I set and unset a cookie using jQuery, for example create a cookie named 'someName' and set its value to 'someValue'?\")\n",
      "('Which implementation of Python does Google use?', \"How do I set and unset a cookie using jQuery, for example create a cookie named 'someName' and set its value to 'someValue'?\")\n",
      "('How useful is it to learn programming on codecademy?', \"How do I set and unset a cookie using jQuery, for example create a cookie named 'someName' and set its value to 'someValue'?\")\n",
      "('What is the best Advantage of using Quora?', \"How do I set and unset a cookie using jQuery, for example create a cookie named 'someName' and set its value to 'someValue'?\")\n",
      "('Do People flirt using Quora?', \"How do I set and unset a cookie using jQuery, for example create a cookie named 'someName' and set its value to 'someValue'?\")\n",
      "('Which book to use for preparing chemistry for neet?', \"How do I set and unset a cookie using jQuery, for example create a cookie named 'someName' and set its value to 'someValue'?\")\n",
      "('Why do we use high voltage to transmit electrical power?', \"How do I set and unset a cookie using jQuery, for example create a cookie named 'someName' and set its value to 'someValue'?\")\n",
      "(\"How is the word 'valiant' used in a sentence?\", \"How do I set and unset a cookie using jQuery, for example create a cookie named 'someName' and set its value to 'someValue'?\")\n",
      "('Why do black people get upset when non-black rappers use the N-word?', \"How do I set and unset a cookie using jQuery, for example create a cookie named 'someName' and set its value to 'someValue'?\")\n",
      "('What is MS Word used for?', \"How do I set and unset a cookie using jQuery, for example create a cookie named 'someName' and set its value to 'someValue'?\")\n",
      "('What is the best workflow process from web design to web development using Adobe muse?', \"How do I set and unset a cookie using jQuery, for example create a cookie named 'someName' and set its value to 'someValue'?\")\n",
      "('Can I use Google Allo on my computer?', \"How do I set and unset a cookie using jQuery, for example create a cookie named 'someName' and set its value to 'someValue'?\")\n",
      "('What is the use of nested loops?', \"How do I set and unset a cookie using jQuery, for example create a cookie named 'someName' and set its value to 'someValue'?\")\n",
      "('How can I use my gift for explaining things to others?', \"How do I set and unset a cookie using jQuery, for example create a cookie named 'someName' and set its value to 'someValue'?\")\n",
      "('Can you use one Spotify premium account on multiple mobile devices?', \"How do I set and unset a cookie using jQuery, for example create a cookie named 'someName' and set its value to 'someValue'?\")\n",
      "('Can I change my eye colour using hypnosis?', \"How do I set and unset a cookie using jQuery, for example create a cookie named 'someName' and set its value to 'someValue'?\")\n",
      "('What is the use of getting more upvotes in Quora?', \"How do I set and unset a cookie using jQuery, for example create a cookie named 'someName' and set its value to 'someValue'?\")\n",
      "(\"How is the word 'furtive' used in a sentence?\", \"How do I set and unset a cookie using jQuery, for example create a cookie named 'someName' and set its value to 'someValue'?\")\n",
      "('Is it mandatory to use an SBI debit card at an SBI ATM for the first-time use?', \"How do I set and unset a cookie using jQuery, for example create a cookie named 'someName' and set its value to 'someValue'?\")\n",
      "('What are the best hashtags I can use for my clothing brand on instagram?', \"How do I set and unset a cookie using jQuery, for example create a cookie named 'someName' and set its value to 'someValue'?\")\n",
      "('Is it correct to say \"please let me know if you need help\" or must I use \"whether\"?', \"How do I set and unset a cookie using jQuery, for example create a cookie named 'someName' and set its value to 'someValue'?\")\n",
      "('Can I use clear nail polish to give a glossy finish to an acrylic painting?', \"How do I set and unset a cookie using jQuery, for example create a cookie named 'someName' and set its value to 'someValue'?\")\n",
      "('What kind of phone does Linus Sebastian from linustechtips use?', \"How do I set and unset a cookie using jQuery, for example create a cookie named 'someName' and set its value to 'someValue'?\")\n",
      "('What is the best rice to use for fried rice?', \"How do I set and unset a cookie using jQuery, for example create a cookie named 'someName' and set its value to 'someValue'?\")\n",
      "('Is Evernote useful?', \"How do I set and unset a cookie using jQuery, for example create a cookie named 'someName' and set its value to 'someValue'?\")\n",
      "('How can I use Omegle on my iPod Touch and how is it compared to using Get It On?', \"How do I set and unset a cookie using jQuery, for example create a cookie named 'someName' and set its value to 'someValue'?\")\n",
      "(\"What are Bank of America's routing numbers used for?\", \"How do I set and unset a cookie using jQuery, for example create a cookie named 'someName' and set its value to 'someValue'?\")\n",
      "('How do I use Jio in 3G phones?', \"How do I set and unset a cookie using jQuery, for example create a cookie named 'someName' and set its value to 'someValue'?\")\n",
      "('What are the disadvantages of using Firebase as backend for mobile app?', \"How do I set and unset a cookie using jQuery, for example create a cookie named 'someName' and set its value to 'someValue'?\")\n",
      "('What is it like to own and drive a Nissan GT-R?', 'Why is dividing by zero an error or undefined?')\n"
     ]
    }
   ],
   "source": [
    "# Print the duplicates in the training set\n",
    "print(\"Duplicate questions in the training set:\")\n",
    "for pair in duplicates_train:\n",
    "    print(pair)"
   ]
  },
  {
   "cell_type": "code",
   "execution_count": null,
   "metadata": {
    "colab": {
     "base_uri": "https://localhost:8080/"
    },
    "id": "inlpNZzO9Q3Y",
    "outputId": "c26b5104-e851-49b0-e1ad-7a7b94389097"
   },
   "outputs": [],
   "source": []
  }
 ],
 "metadata": {
  "accelerator": "GPU",
  "colab": {
   "provenance": []
  },
  "gpuClass": "standard",
  "kernelspec": {
   "display_name": "Python 3 (ipykernel)",
   "language": "python",
   "name": "python3"
  },
  "language_info": {
   "codemirror_mode": {
    "name": "ipython",
    "version": 3
   },
   "file_extension": ".py",
   "mimetype": "text/x-python",
   "name": "python",
   "nbconvert_exporter": "python",
   "pygments_lexer": "ipython3",
   "version": "3.12.7"
  }
 },
 "nbformat": 4,
 "nbformat_minor": 4
}
